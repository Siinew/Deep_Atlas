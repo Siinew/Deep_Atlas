{
 "cells": [
  {
   "cell_type": "markdown",
   "metadata": {},
   "source": [
    "# Walkthrough: Geo Lookup"
   ]
  },
  {
   "cell_type": "markdown",
   "metadata": {},
   "source": [
    "- [ ] Complete the instructions in [this notebook on Google Colab](https://drive.google.com/file/d/17UDtaTXu63fGyZjXAMVEroXRMUbzTCDP/view?usp=drive_link)"
   ]
  }
 ],
 "metadata": {
  "language_info": {
   "name": "python"
  }
 },
 "nbformat": 4,
 "nbformat_minor": 2
}
